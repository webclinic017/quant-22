{
 "cells": [
  {
   "cell_type": "code",
   "execution_count": 5,
   "id": "934dbbad",
   "metadata": {},
   "outputs": [],
   "source": [
    "import backtrader as bt # 导入 Backtrader"
   ]
  },
  {
   "cell_type": "code",
   "execution_count": 4,
   "id": "6aa45c9a",
   "metadata": {},
   "outputs": [
    {
     "data": {
      "text/plain": [
       "<backtrader.cerebro.Cerebro at 0x1f2efc1baf0>"
      ]
     },
     "execution_count": 4,
     "metadata": {},
     "output_type": "execute_result"
    }
   ],
   "source": [
    "cerebro"
   ]
  },
  {
   "cell_type": "code",
   "execution_count": 6,
   "id": "c5b746f1",
   "metadata": {},
   "outputs": [
    {
     "ename": "NameError",
     "evalue": "name 'python' is not defined",
     "output_type": "error",
     "traceback": [
      "\u001b[1;31m---------------------------------------------------------------------------\u001b[0m",
      "\u001b[1;31mNameError\u001b[0m                                 Traceback (most recent call last)",
      "Input \u001b[1;32mIn [6]\u001b[0m, in \u001b[0;36m<cell line: 1>\u001b[1;34m()\u001b[0m\n\u001b[1;32m----> 1\u001b[0m \u001b[43mpython\u001b[49m\n",
      "\u001b[1;31mNameError\u001b[0m: name 'python' is not defined"
     ]
    }
   ],
   "source": []
  },
  {
   "cell_type": "code",
   "execution_count": null,
   "id": "4a7a4c37",
   "metadata": {},
   "outputs": [],
   "source": []
  }
 ],
 "metadata": {
  "kernelspec": {
   "display_name": "Python [conda env:quant_bt]",
   "language": "python",
   "name": "conda-env-quant_bt-py"
  },
  "language_info": {
   "codemirror_mode": {
    "name": "ipython",
    "version": 3
   },
   "file_extension": ".py",
   "mimetype": "text/x-python",
   "name": "python",
   "nbconvert_exporter": "python",
   "pygments_lexer": "ipython3",
   "version": "3.8.13"
  }
 },
 "nbformat": 4,
 "nbformat_minor": 5
}
