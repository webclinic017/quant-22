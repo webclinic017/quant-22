{
 "cells": [
  {
   "cell_type": "markdown",
   "id": "6e251ef8",
   "metadata": {},
   "source": [
    "## 导入相关包"
   ]
  },
  {
   "cell_type": "code",
   "execution_count": 7,
   "id": "934dbbad",
   "metadata": {},
   "outputs": [],
   "source": [
    "import backtrader as bt # 导入 Backtrader"
   ]
  },
  {
   "cell_type": "markdown",
   "id": "9c0d4835",
   "metadata": {},
   "source": [
    "## 空实例化"
   ]
  },
  {
   "cell_type": "code",
   "execution_count": 14,
   "id": "bebbeb3f",
   "metadata": {},
   "outputs": [
    {
     "name": "stdout",
     "output_type": "stream",
     "text": [
      "Starting Portfolio Value: 10000.00\n",
      "Final Portfolio Value: 10000.00\n"
     ]
    }
   ],
   "source": [
    "import backtrader as bt # 导入 Backtrader\n",
    "\n",
    "# 实例化 cerebro\n",
    "cerebro = bt.Cerebro()\n",
    "# 打印初始资金\n",
    "print('Starting Portfolio Value: %.2f' % cerebro.broker.getvalue())\n",
    "# 启动回测\n",
    "cerebro.run()\n",
    "# 打印回测完成后的资金\n",
    "print('Final Portfolio Value: %.2f' % cerebro.broker.getvalue())\n"
   ]
  },
  {
   "cell_type": "code",
   "execution_count": null,
   "id": "ac6bc8a5",
   "metadata": {},
   "outputs": [],
   "source": [
    "for stock in daily_price['sec_code'].unique():\n",
    "    # 日期对齐\n",
    "    data = pd.DataFrame(index=daily_price.index.unique()) # 获取回测区间内所有交易日\n",
    "    df = daily_price.query(f\"sec_code=='{stock}'\")[['open','high','low','close','volume','openinterest']]\n",
    "    data_ = pd.merge(data, df, left_index=True, right_index=True, how='left')\n",
    "    # 缺失值处理：日期对齐时会使得有些交易日的数据为空，所以需要对缺失数据进行填充\n",
    "    data_.loc[:,['volume','openinterest']] = data_.loc[:,['volume','openinterest']].fillna(0)\n",
    "    data_.loc[:,['open','high','low','close']] = data_.loc[:,['open','high','low','close']].fillna(method='pad')\n",
    "    data_.loc[:,['open','high','low','close']] = data_.loc[:,['open','high','low','close']].fillna(0)\n",
    "    # 导入数据\n",
    "    datafeed = bt.feeds.PandasData(dataname=data_, fromdate=datetime.datetime(2019,1,2), todate=datetime.datetime(2021,1,28))\n",
    "    cerebro.adddata(datafeed, name=stock) # 通过 name 实现数据集与股票的一一对应\n",
    "    print(f\"{stock} Done !\")"
   ]
  },
  {
   "cell_type": "code",
   "execution_count": null,
   "id": "1ed38189",
   "metadata": {},
   "outputs": [],
   "source": [
    "# 回测策略\n",
    "class TestStrategy(bt.Strategy):\n",
    "    '''选股策略'''\n",
    "    def __init__(self):\n",
    "        self.buy_stock = trade_info # 保留调仓列表\n",
    "        # 读取调仓日期，即每月的最后一个交易日，回测时，会在这一天下单，然后在下一个交易日，以开盘价买入\n",
    "        self.trade_dates = pd.to_datetime(self.buy_stock['trade_date'].unique()).tolist()\n",
    "        self.order_list = [] # 记录以往订单，方便调仓日对未完成订单做处理\n",
    "        self.buy_stocks_pre = [] # 记录上一期持仓\n",
    "    def next(self):\n",
    "        dt = self.datas[0].datetime.date(0) # 获取当前的回测时间点\n",
    "        # 如果是调仓日，则进行调仓操作\n",
    "        if dt in self.trade_dates:\n",
    "            print(\"--------------{} 为调仓日----------\".format(dt))\n",
    "            # 在调仓之前，取消之前所下的没成交也未到期的订单\n",
    "            if len(self.order_list) > 0:\n",
    "                for od in self.order_list:\n",
    "                    self.cancel(od) # 如果订单未完成，则撤销订单\n",
    "                self.order_list = [] #重置订单列表\n",
    "            # 提取当前调仓日的持仓列表\n",
    "            buy_stocks_data = self.buy_stock.query(f\"trade_date=='{dt}'\")\n",
    "            long_list = buy_stocks_data['sec_code'].tolist()\n",
    "            print('long_list', long_list) # 打印持仓列表\n",
    "            # 对现有持仓中，调仓后不再继续持有的股票进行卖出平仓\n",
    "            sell_stock = [i for i in self.buy_stocks_pre if i not in long_list]\n",
    "            print('sell_stock', sell_stock) # 打印平仓列表\n",
    "            if len(sell_stock) > 0:\n",
    "                print(\"-----------对不再持有的股票进行平仓--------------\")\n",
    "                for stock in sell_stock:\n",
    "                    data = self.getdatabyname(stock)\n",
    "                    if self.getposition(data).size > 0 :\n",
    "                        od = self.close(data=data)\n",
    "                        self.order_list.append(od) # 记录卖出订单\n",
    "            # 买入此次调仓的股票：多退少补原则\n",
    "            print(\"-----------买入此次调仓期的股票--------------\")\n",
    "            for stock in long_list:\n",
    "                w = buy_stocks_data.query(f\"sec_code=='{stock}'\")['weight'].iloc[0] # 提取持仓权重\n",
    "                data = self.getdatabyname(stock)\n",
    "                order = self.order_target_percent(data=data, target=w*0.95) # 为减少可用资金不足的情况，留 5% 的现金做备用\n",
    "                self.order_list.append(order)\n",
    "       \n",
    "            self.buy_stocks_pre = long_list # 保存此次调仓的股票列表\n",
    "        \n",
    "# 将编写的策略添加给大脑，别忘了 ！\n",
    "cerebro.addstrategy(TestStrategy)"
   ]
  },
  {
   "cell_type": "code",
   "execution_count": null,
   "id": "c0b5bbea",
   "metadata": {},
   "outputs": [],
   "source": []
  }
 ],
 "metadata": {
  "kernelspec": {
   "display_name": "Python [conda env:quant_bt]",
   "language": "python",
   "name": "conda-env-quant_bt-py"
  },
  "language_info": {
   "codemirror_mode": {
    "name": "ipython",
    "version": 3
   },
   "file_extension": ".py",
   "mimetype": "text/x-python",
   "name": "python",
   "nbconvert_exporter": "python",
   "pygments_lexer": "ipython3",
   "version": "3.8.13"
  }
 },
 "nbformat": 4,
 "nbformat_minor": 5
}
